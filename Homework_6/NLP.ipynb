{
  "cells": [
    {
      "cell_type": "markdown",
      "metadata": {
        "id": "JSlmzb2uQHrX"
      },
      "source": [
        "# Домашняя работа: Обучаем собственную Seq2seq модель"
      ]
    },
    {
      "cell_type": "markdown",
      "metadata": {
        "id": "5PEYCjfwQHrc"
      },
      "source": [
        "#### Установим зависимости.\n",
        "\n",
        "В конце вы получите сообщение \"You must restart the runtime in order to use newly installed versions.\". Нажмите кнопку \"RESTART RUNTIME\"."
      ]
    },
    {
      "cell_type": "code",
      "execution_count": null,
      "metadata": {
        "id": "fr9Flx-CQHrf",
        "colab": {
          "base_uri": "https://localhost:8080/"
        },
        "outputId": "490bb197-8df0-4a9d-a885-469388730ab9"
      },
      "outputs": [
        {
          "output_type": "stream",
          "name": "stdout",
          "text": [
            "Looking in indexes: https://pypi.org/simple, https://us-python.pkg.dev/colab-wheels/public/simple/\n",
            "Collecting transformers==4.11.0\n",
            "  Downloading transformers-4.11.0-py3-none-any.whl (2.9 MB)\n",
            "\u001b[2K     \u001b[90m━━━━━━━━━━━━━━━━━━━━━━━━━━━━━━━━━━━━━━━━\u001b[0m \u001b[32m2.9/2.9 MB\u001b[0m \u001b[31m68.1 MB/s\u001b[0m eta \u001b[36m0:00:00\u001b[0m\n",
            "\u001b[?25hCollecting torch==1.10.2\n",
            "  Downloading torch-1.10.2-cp39-cp39-manylinux1_x86_64.whl (881.9 MB)\n",
            "\u001b[2K     \u001b[90m━━━━━━━━━━━━━━━━━━━━━━━━━━━━━━━━━━━━━━━\u001b[0m \u001b[32m881.9/881.9 MB\u001b[0m \u001b[31m1.6 MB/s\u001b[0m eta \u001b[36m0:00:00\u001b[0m\n",
            "\u001b[?25hCollecting torchtext==0.11.2\n",
            "  Downloading torchtext-0.11.2-cp39-cp39-manylinux1_x86_64.whl (8.0 MB)\n",
            "\u001b[2K     \u001b[90m━━━━━━━━━━━━━━━━━━━━━━━━━━━━━━━━━━━━━━━━\u001b[0m \u001b[32m8.0/8.0 MB\u001b[0m \u001b[31m105.6 MB/s\u001b[0m eta \u001b[36m0:00:00\u001b[0m\n",
            "\u001b[?25hRequirement already satisfied: pyyaml>=5.1 in /usr/local/lib/python3.9/dist-packages (from transformers==4.11.0) (6.0)\n",
            "Requirement already satisfied: regex!=2019.12.17 in /usr/local/lib/python3.9/dist-packages (from transformers==4.11.0) (2022.10.31)\n",
            "Collecting sacremoses\n",
            "  Downloading sacremoses-0.0.53.tar.gz (880 kB)\n",
            "\u001b[2K     \u001b[90m━━━━━━━━━━━━━━━━━━━━━━━━━━━━━━━━━━━━━━\u001b[0m \u001b[32m880.6/880.6 KB\u001b[0m \u001b[31m62.6 MB/s\u001b[0m eta \u001b[36m0:00:00\u001b[0m\n",
            "\u001b[?25h  Preparing metadata (setup.py) ... \u001b[?25l\u001b[?25hdone\n",
            "Collecting tokenizers<0.11,>=0.10.1\n",
            "  Downloading tokenizers-0.10.3-cp39-cp39-manylinux_2_5_x86_64.manylinux1_x86_64.manylinux_2_12_x86_64.manylinux2010_x86_64.whl (3.3 MB)\n",
            "\u001b[2K     \u001b[90m━━━━━━━━━━━━━━━━━━━━━━━━━━━━━━━━━━━━━━━━\u001b[0m \u001b[32m3.3/3.3 MB\u001b[0m \u001b[31m98.5 MB/s\u001b[0m eta \u001b[36m0:00:00\u001b[0m\n",
            "\u001b[?25hCollecting huggingface-hub>=0.0.17\n",
            "  Downloading huggingface_hub-0.13.3-py3-none-any.whl (199 kB)\n",
            "\u001b[2K     \u001b[90m━━━━━━━━━━━━━━━━━━━━━━━━━━━━━━━━━━━━━━\u001b[0m \u001b[32m199.8/199.8 KB\u001b[0m \u001b[31m26.5 MB/s\u001b[0m eta \u001b[36m0:00:00\u001b[0m\n",
            "\u001b[?25hRequirement already satisfied: requests in /usr/local/lib/python3.9/dist-packages (from transformers==4.11.0) (2.27.1)\n",
            "Requirement already satisfied: filelock in /usr/local/lib/python3.9/dist-packages (from transformers==4.11.0) (3.10.0)\n",
            "Requirement already satisfied: numpy>=1.17 in /usr/local/lib/python3.9/dist-packages (from transformers==4.11.0) (1.22.4)\n",
            "Requirement already satisfied: tqdm>=4.27 in /usr/local/lib/python3.9/dist-packages (from transformers==4.11.0) (4.65.0)\n",
            "Requirement already satisfied: packaging>=20.0 in /usr/local/lib/python3.9/dist-packages (from transformers==4.11.0) (23.0)\n",
            "Requirement already satisfied: typing-extensions in /usr/local/lib/python3.9/dist-packages (from torch==1.10.2) (4.5.0)\n",
            "Requirement already satisfied: urllib3<1.27,>=1.21.1 in /usr/local/lib/python3.9/dist-packages (from requests->transformers==4.11.0) (1.26.15)\n",
            "Requirement already satisfied: charset-normalizer~=2.0.0 in /usr/local/lib/python3.9/dist-packages (from requests->transformers==4.11.0) (2.0.12)\n",
            "Requirement already satisfied: idna<4,>=2.5 in /usr/local/lib/python3.9/dist-packages (from requests->transformers==4.11.0) (3.4)\n",
            "Requirement already satisfied: certifi>=2017.4.17 in /usr/local/lib/python3.9/dist-packages (from requests->transformers==4.11.0) (2022.12.7)\n",
            "Requirement already satisfied: six in /usr/local/lib/python3.9/dist-packages (from sacremoses->transformers==4.11.0) (1.15.0)\n",
            "Requirement already satisfied: click in /usr/local/lib/python3.9/dist-packages (from sacremoses->transformers==4.11.0) (8.1.3)\n",
            "Requirement already satisfied: joblib in /usr/local/lib/python3.9/dist-packages (from sacremoses->transformers==4.11.0) (1.1.1)\n",
            "Building wheels for collected packages: sacremoses\n",
            "  Building wheel for sacremoses (setup.py) ... \u001b[?25l\u001b[?25hdone\n",
            "  Created wheel for sacremoses: filename=sacremoses-0.0.53-py3-none-any.whl size=895259 sha256=5de447d91ed6ce114e437100d0f497bc5ca104bf9ce8561c9b2031103270d41b\n",
            "  Stored in directory: /root/.cache/pip/wheels/12/1c/3d/46cf06718d63a32ff798a89594b61e7f345ab6b36d909ce033\n",
            "Successfully built sacremoses\n",
            "Installing collected packages: tokenizers, torch, sacremoses, torchtext, huggingface-hub, transformers\n",
            "  Attempting uninstall: torch\n",
            "    Found existing installation: torch 1.13.1+cu116\n",
            "    Uninstalling torch-1.13.1+cu116:\n",
            "      Successfully uninstalled torch-1.13.1+cu116\n",
            "  Attempting uninstall: torchtext\n",
            "    Found existing installation: torchtext 0.14.1\n",
            "    Uninstalling torchtext-0.14.1:\n",
            "      Successfully uninstalled torchtext-0.14.1\n",
            "\u001b[31mERROR: pip's dependency resolver does not currently take into account all the packages that are installed. This behaviour is the source of the following dependency conflicts.\n",
            "torchvision 0.14.1+cu116 requires torch==1.13.1, but you have torch 1.10.2 which is incompatible.\n",
            "torchaudio 0.13.1+cu116 requires torch==1.13.1, but you have torch 1.10.2 which is incompatible.\u001b[0m\u001b[31m\n",
            "\u001b[0mSuccessfully installed huggingface-hub-0.13.3 sacremoses-0.0.53 tokenizers-0.10.3 torch-1.10.2 torchtext-0.11.2 transformers-4.11.0\n"
          ]
        }
      ],
      "source": [
        "# Установим зависимости\n",
        "!pip install transformers==4.11.0 torch==1.10.2 torchtext==0.11.2 "
      ]
    },
    {
      "cell_type": "markdown",
      "metadata": {
        "id": "nX1s-VUYQHri"
      },
      "source": [
        "## Данные"
      ]
    },
    {
      "cell_type": "markdown",
      "metadata": {
        "id": "fOBmbnc6QHrj"
      },
      "source": [
        "Будем использовать англоязычный [датасет PennTreebank](https://pytorch.org/text/stable/datasets.html#penntreebank), доступный во фреймворке `torchtext`. \n",
        "\n",
        "Для начала заглянем в датасет и посмотрим, что представляет из себя пример из датасета."
      ]
    },
    {
      "cell_type": "code",
      "execution_count": null,
      "metadata": {
        "id": "s7CV_oreQHrl"
      },
      "outputs": [],
      "source": [
        "import os\n",
        "\n",
        "os.environ[\"CUDA_VISIBLE_DEVICES\"]=\"0\""
      ]
    },
    {
      "cell_type": "code",
      "execution_count": null,
      "metadata": {
        "id": "2I7QDkUJQHrn",
        "outputId": "6931627f-411f-43a0-e055-34e81397ff8a",
        "colab": {
          "base_uri": "https://localhost:8080/"
        }
      },
      "outputs": [
        {
          "output_type": "stream",
          "name": "stderr",
          "text": [
            "5.10MB [00:00, 103MB/s]                    "
          ]
        },
        {
          "output_type": "stream",
          "name": "stdout",
          "text": [
            " aer banknote berlitz calloway centrust cluett fromstein gitano guterman hydro-quebec ipo kia memotec mlx nahb punts rake regatta rubens sim snack-food ssangyong swapo wachter \n",
            "\n",
            " pierre <unk> N years old will join the board as a nonexecutive director nov. N \n",
            "\n",
            " mr. <unk> is chairman of <unk> n.v. the dutch publishing group \n",
            "\n",
            " rudolph <unk> N years old and former chairman of consolidated gold fields plc was named a nonexecutive director of this british industrial conglomerate \n",
            "\n",
            " a form of asbestos once used to make kent cigarette filters has caused a high percentage of cancer deaths among a group of workers exposed to it more than N years ago researchers reported \n",
            "\n"
          ]
        },
        {
          "output_type": "stream",
          "name": "stderr",
          "text": [
            "\n"
          ]
        }
      ],
      "source": [
        "from torchtext.datasets import PennTreebank\n",
        "\n",
        "\n",
        "# создадим итератор по данным, загрузив готовый датасет PennTreebank из torchtext, \n",
        "# причем для начала, только обучающую train подвыборку, используя аргумент split\n",
        "train_iter = PennTreebank(split='train')\n",
        "# определим небольшое число примеров для демонстрации\n",
        "nsamples = 5\n",
        "# создадим переменную для сохранения текста примеров в единый текст\n",
        "# в дальнейшем мы его заиспользуем для проверки паайплайна предобработки текста\n",
        "training_samples_example = \"\"\n",
        "\n",
        "\n",
        "for line in train_iter:\n",
        "    print(line)\n",
        "    training_samples_example += line\n",
        "    nsamples -= 1\n",
        "    if nsamples == 0:\n",
        "        break"
      ]
    },
    {
      "cell_type": "code",
      "execution_count": null,
      "metadata": {
        "id": "X2R9B4XlQHrt",
        "outputId": "f8ab88d1-46ca-41de-b682-ee519a811015",
        "colab": {
          "base_uri": "https://localhost:8080/",
          "height": 87
        }
      },
      "outputs": [
        {
          "output_type": "execute_result",
          "data": {
            "text/plain": [
              "' aer banknote berlitz calloway centrust cluett fromstein gitano guterman hydro-quebec ipo kia memotec mlx nahb punts rake regatta rubens sim snack-food ssangyong swapo wachter \\n pierre <unk> N years old will join the board as a nonexecutive director nov. N \\n mr. <unk> is chairman of <unk> n.v. the dutch publishing group \\n rudolph <unk> N years old and former chairman of consolidated gold fields plc was named a nonexecutive director of this british industrial conglomerate \\n a form of asbestos once used to make kent cigarette filters has caused a high percentage of cancer deaths among a group of workers exposed to it more than N years ago researchers reported \\n'"
            ],
            "application/vnd.google.colaboratory.intrinsic+json": {
              "type": "string"
            }
          },
          "metadata": {},
          "execution_count": 4
        }
      ],
      "source": [
        "# посмотрим, как выглядят эти примеры, соединенные в одну строку\n",
        "training_samples_example"
      ]
    },
    {
      "cell_type": "markdown",
      "metadata": {
        "id": "AFCKojszQHsH"
      },
      "source": [
        "В данном тюториале мы собиаремся решать задачу sequence-to-sequence -- задачу предсказания следующего токена по предыдущим, то есть фактически задачу языкового моделирования. Поэтому нам не понадобятся пайплайны предобработки меток классов -- у нас их попросту нет. Поэтому далее мы переходим к предобработке текстов датасета."
      ]
    },
    {
      "cell_type": "markdown",
      "metadata": {
        "id": "ivqOU3QZQHsO"
      },
      "source": [
        "## Токенизация\n",
        "\n",
        "Для построения словаря, нам необходимо определить токенизатор данных -- модель, которая будетразделять единый текст на токены -- наиболее популярные единицы языка. \n",
        "\n",
        "В данном тюториале будем использовать базовый токенизатор для английского языка из библиотеки  `torchtext`."
      ]
    },
    {
      "cell_type": "code",
      "execution_count": null,
      "metadata": {
        "id": "KAhzTIscQHsU",
        "outputId": "80a60570-4dd4-497b-c934-2015ea36c36a",
        "colab": {
          "base_uri": "https://localhost:8080/"
        }
      },
      "outputs": [
        {
          "output_type": "stream",
          "name": "stdout",
          "text": [
            "ORIGINAL SAMPLE:\n",
            " the asbestos fiber <unk> is unusually <unk> once it enters the <unk> with even brief exposures to it causing symptoms that show up decades later researchers said \n",
            "\n",
            "TOKENIZED SAMPLE:\n",
            "['the', 'asbestos', 'fiber', '<unk>', 'is', 'unusually', '<unk>', 'once', 'it', 'enters', 'the', '<unk>', 'with', 'even', 'brief', 'exposures', 'to', 'it', 'causing', 'symptoms', 'that', 'show', 'up', 'decades', 'later', 'researchers', 'said']\n",
            "ORIGINAL SAMPLE:\n",
            " <unk> inc. the unit of new york-based <unk> corp. that makes kent cigarettes stopped using <unk> in its <unk> cigarette filters in N \n",
            "\n",
            "TOKENIZED SAMPLE:\n",
            "['<unk>', 'inc', '.', 'the', 'unit', 'of', 'new', 'york-based', '<unk>', 'corp', '.', 'that', 'makes', 'kent', 'cigarettes', 'stopped', 'using', '<unk>', 'in', 'its', '<unk>', 'cigarette', 'filters', 'in', 'n']\n",
            "ORIGINAL SAMPLE:\n",
            " although preliminary findings were reported more than a year ago the latest results appear in today 's new england journal of medicine a forum likely to bring new attention to the problem \n",
            "\n",
            "TOKENIZED SAMPLE:\n",
            "['although', 'preliminary', 'findings', 'were', 'reported', 'more', 'than', 'a', 'year', 'ago', 'the', 'latest', 'results', 'appear', 'in', 'today', \"'\", 's', 'new', 'england', 'journal', 'of', 'medicine', 'a', 'forum', 'likely', 'to', 'bring', 'new', 'attention', 'to', 'the', 'problem']\n",
            "ORIGINAL SAMPLE:\n",
            " a <unk> <unk> said this is an old story \n",
            "\n",
            "TOKENIZED SAMPLE:\n",
            "['a', '<unk>', '<unk>', 'said', 'this', 'is', 'an', 'old', 'story']\n",
            "ORIGINAL SAMPLE:\n",
            " we 're talking about years ago before anyone heard of asbestos having any questionable properties \n",
            "\n",
            "TOKENIZED SAMPLE:\n",
            "['we', \"'\", 're', 'talking', 'about', 'years', 'ago', 'before', 'anyone', 'heard', 'of', 'asbestos', 'having', 'any', 'questionable', 'properties']\n"
          ]
        }
      ],
      "source": [
        "from torchtext.data.utils import get_tokenizer\n",
        "\n",
        "\n",
        "# загрузим базовый англоязычный basic_english токенизатор с помощью get_tokenizer\n",
        "tokenizer = get_tokenizer('basic_english')\n",
        "# определим небольшое число примеров для демонстрации\n",
        "nsamples = 5\n",
        "\n",
        "for line in train_iter:\n",
        "    # получим из строки line токены с помощью tokenizer\n",
        "    tokenized_line = tokenizer(line)\n",
        "    # распечатаем полученную информацию\n",
        "    print(f\"ORIGINAL SAMPLE:\\n{line}\")\n",
        "    print(f\"TOKENIZED SAMPLE:\\n{tokenized_line}\")\n",
        "    nsamples -= 1\n",
        "    if nsamples == 0:\n",
        "        break"
      ]
    },
    {
      "cell_type": "markdown",
      "metadata": {
        "id": "KhTiy_OBQHsW"
      },
      "source": [
        "## Словарь\n",
        "\n",
        "Теперь нам необходимо собрать словарь -- структуру данных, содержащую проиндексированные токены, которые мы сможем использовать для векторизации текстов -- представлении текстов в удобном машиночитаемом формате. Для сбора словаря, так как нас интересуют непосредственно те слова, которые есть в нашем датасете (но при этом, мы не можем использовать слова из тестовой подвыборки датасета при создлании словаря), то будем строить словарь на основе итерирования по токенам по обучающей выборки.\n",
        "\n",
        "В данном тюториале мы попрбуем два разных способа создать словарь на основе итератора по текстам. Оба способа создадут **идентичные по содержащимся токенам словари**.\n",
        "\n",
        "**Первый способ** заключается в использование `Counter` для сбора токенов и инициализации  `torchtext.vocab.Vocab` на основе собранного `Counter`."
      ]
    },
    {
      "cell_type": "code",
      "execution_count": null,
      "metadata": {
        "id": "bOaQ23igQHsY",
        "outputId": "2fa73c5f-ec5c-4cdf-d6cf-d542997fbe1b",
        "colab": {
          "base_uri": "https://localhost:8080/"
        }
      },
      "outputs": [
        {
          "output_type": "stream",
          "name": "stdout",
          "text": [
            "Vocabulary size: 9922\n"
          ]
        }
      ],
      "source": [
        "from collections import Counter\n",
        "from torchtext.vocab import Vocab\n",
        "\n",
        "\n",
        "# создадим итератор по данным, загрузив готовый датасет PennTreebank из torchtext, \n",
        "# причем для начала, только обучающую train подвыборку, используя аргумент split\n",
        "train_iter = PennTreebank(split='train')\n",
        "# создадим инстанс Counter\n",
        "counter = Counter()\n",
        "\n",
        "for line in train_iter:\n",
        "    # итерируясь по данным, токенизируем текст в каждом примере в датасете\n",
        "    tokens = tokenizer(line)\n",
        "    # добавим полученные токены в наш counter с помощью метода update\n",
        "    counter.update(tokens)\n",
        "\n",
        "# теперь создадим Vocab на основе нашего counter\n",
        "vocab = Vocab(counter)\n",
        "# посомтрим на размер собранного словаря\n",
        "print(f\"Vocabulary size: {vocab.__len__()}\")"
      ]
    },
    {
      "cell_type": "markdown",
      "metadata": {
        "id": "37zqqC7UQHsb"
      },
      "source": [
        "**Второй способ** состоит в создании словаря напрямую через итератор данных без использования `Counter`. Для этого воспользуемся функций `torchtext.vocab.build_vocab_from_iterator`."
      ]
    },
    {
      "cell_type": "code",
      "execution_count": null,
      "metadata": {
        "id": "LUKbEwU5QHsd",
        "outputId": "9660bbde-a2a2-4a85-fab1-275eb88ecca1",
        "colab": {
          "base_uri": "https://localhost:8080/"
        }
      },
      "outputs": [
        {
          "output_type": "stream",
          "name": "stdout",
          "text": [
            "Vocabulary size: 9922\n"
          ]
        }
      ],
      "source": [
        "from torchtext.vocab import build_vocab_from_iterator\n",
        "\n",
        "\n",
        "def yield_tokens():\n",
        "    # итерируясь по обучающему датасету\n",
        "    for line in train_iter:\n",
        "        # токенизируем line\n",
        "        tokens = tokenizer(line)\n",
        "        yield tokens\n",
        "\n",
        "\n",
        "# создадим итератор по данным, загрузив готовый датасет PennTreebank из torchtext, \n",
        "# причем для начала, только обучающую train подвыборку, используя аргумент split\n",
        "train_iter = PennTreebank(split='train')\n",
        "# используем build_vocab_from_iterator для получения vocab на основе yield_tokens(),\n",
        "# обязательно добавив специальный токен \"<unk>\" в аргумент-список специальных токенов specials\n",
        "vocab = build_vocab_from_iterator(yield_tokens(), specials=['<unk>'])\n",
        "vocab.set_default_index(vocab['<unk>']) \n",
        "# посмотрим на размер собранного словаря\n",
        "print(f\"Vocabulary size: {vocab.__len__()}\")"
      ]
    },
    {
      "cell_type": "markdown",
      "metadata": {
        "id": "8hTiCQLsQHsg"
      },
      "source": [
        "Как мы видим, словари имеют одинаковые размер. Оба способа создают идентичные по содержащимся токенам словари."
      ]
    },
    {
      "cell_type": "markdown",
      "metadata": {
        "id": "uzsGXd9_QHsi"
      },
      "source": [
        "## Подготовим датасет\n",
        "\n",
        "Для подготовки датасета к процессу обучения модели seq2seq, необходимо \n",
        "* токенизировать тексты, \n",
        "* перевести токены в индексы токенов в словаре,\n",
        "* преобразовать результат в тензор."
      ]
    },
    {
      "cell_type": "code",
      "execution_count": null,
      "metadata": {
        "id": "_IHj6SNHQHsk"
      },
      "outputs": [],
      "source": [
        "import torch\n",
        "\n",
        "\n",
        "def data_process(raw_text_iter):\n",
        "    # подготовим переменную для индексов токенов\n",
        "    data = []\n",
        "    # итерируемся по данным\n",
        "    for item in raw_text_iter:\n",
        "        # каждый пример в датасете -- текст\n",
        "        # токенизируем полученный текст с помощью tokenizer\n",
        "        tokens = tokenizer(item)\n",
        "        # для каждого токена из полученных токенизатором\n",
        "        # получаем индекс токена в словаре с помощью vocab\n",
        "        # и получаем лист индексов токенов\n",
        "        tokens_ids = vocab(tokens)\n",
        "        # преобразуем полученный лист индексов токенов текста \n",
        "        # в torch.tensor с типом dtype=torch.long\n",
        "        tensor_tokens_ids = torch.tensor(data=tokens_ids, dtype=torch.long)\n",
        "        # добавим в список data полученный тензор, \n",
        "        # если наш сэмпл данных содержит непустые токены (такие примеры получаются,\n",
        "        # когда изначальная строка содержала только символы новой строки)\n",
        "        if len(tokens_ids) > 0:\n",
        "            data += [tensor_tokens_ids]\n",
        "    \n",
        "    return torch.cat(data)"
      ]
    },
    {
      "cell_type": "code",
      "execution_count": null,
      "metadata": {
        "id": "ryBoCnh9QHsk"
      },
      "outputs": [],
      "source": [
        "# а теперь перепишем эту функцию, но компактнее записанную\n",
        "# и использующую list comprehension вместо циклов for \n",
        "# (list comprehension работает быстрее)\n",
        "\n",
        "def data_process(raw_text_iter):\n",
        "    data = [torch.tensor(vocab(tokenizer(item)), dtype=torch.long) \n",
        "            for item in raw_text_iter if len(item.strip()) > 0]\n",
        "    return torch.cat(data)"
      ]
    },
    {
      "cell_type": "code",
      "execution_count": null,
      "metadata": {
        "id": "4Cg8wTAaQHsm",
        "outputId": "30f08a24-e8f2-47df-cae3-0763c034d558",
        "colab": {
          "base_uri": "https://localhost:8080/"
        }
      },
      "outputs": [
        {
          "output_type": "stream",
          "name": "stderr",
          "text": [
            "400kB [00:00, 62.9MB/s]                   \n",
            "450kB [00:00, 59.1MB/s]                   \n"
          ]
        }
      ],
      "source": [
        "# создадим ТРИ итератора по данным, загрузив готовый датасет PennTreebank из torchtext\n",
        "train_iter, val_iter, test_iter = PennTreebank()\n",
        "\n",
        "# предобработаем данные обучающей выборки\n",
        "train_processed_data = data_process(train_iter)\n",
        "# предобработаем данные валидационной выборки\n",
        "val_processed_data = data_process(val_iter)\n",
        "# предобработаем данные тестовой выборки\n",
        "test_processed_data = data_process(test_iter)"
      ]
    },
    {
      "cell_type": "code",
      "execution_count": null,
      "metadata": {
        "id": "re9wjvE8QHsr",
        "outputId": "6f57bbfc-dd8b-430d-c55f-9dcfccd7bc05",
        "colab": {
          "base_uri": "https://localhost:8080/"
        }
      },
      "outputs": [
        {
          "output_type": "execute_result",
          "data": {
            "text/plain": [
              "tensor([9892, 9893, 9894, 9896, 9897, 9898, 9902, 9903, 9904, 9905, 9906, 9908,\n",
              "        9909, 9910, 9911, 9913, 9914, 9915, 9916, 9917, 9918, 9919, 9920, 9921,\n",
              "        9187,    0,    2,   74,  395,   34, 2126,    1,  146,   20,    5, 9139,\n",
              "         275,  410,    8,    2,   24,    8,    0,   14,  141,    3,    0,    2,\n",
              "           8, 2506,    8,    1, 3070, 1595,   97, 7627,    0,    2,   74,  395,\n",
              "           7,  339,  141,    3, 2466,  659, 2162,  956,   25,  524,    5, 9139,\n",
              "         275,    3,   40,  303,  441, 3667,    5,  943,    3, 3137,  499,  263,\n",
              "           4,  138, 6053, 4223, 5997,   32,  988,    5,  241,  762,    3, 1016,\n",
              "        2778,  211,    5,   97])"
            ]
          },
          "metadata": {},
          "execution_count": 11
        }
      ],
      "source": [
        "train_processed_data[:100]"
      ]
    },
    {
      "cell_type": "code",
      "execution_count": null,
      "metadata": {
        "id": "NI56r1lmQHsv",
        "outputId": "0ac00567-28eb-4566-a6ff-1766d5b4c480",
        "colab": {
          "base_uri": "https://localhost:8080/"
        }
      },
      "outputs": [
        {
          "output_type": "execute_result",
          "data": {
            "text/plain": [
              "torch.Size([924412])"
            ]
          },
          "metadata": {},
          "execution_count": 12
        }
      ],
      "source": [
        "# какой полуичлся размер обучающей выборки в числе токенов\n",
        "train_processed_data.shape"
      ]
    },
    {
      "cell_type": "code",
      "execution_count": null,
      "metadata": {
        "id": "TgHLvtlgQHs0",
        "outputId": "37039be6-a52f-4c14-85f1-3b2cd7cb77b9",
        "colab": {
          "base_uri": "https://localhost:8080/"
        }
      },
      "outputs": [
        {
          "output_type": "execute_result",
          "data": {
            "text/plain": [
              "['aer',\n",
              " 'banknote',\n",
              " 'berlitz',\n",
              " 'calloway',\n",
              " 'centrust',\n",
              " 'cluett',\n",
              " 'fromstein',\n",
              " 'gitano',\n",
              " 'guterman',\n",
              " 'hydro-quebec',\n",
              " 'ipo',\n",
              " 'kia',\n",
              " 'memotec',\n",
              " 'mlx',\n",
              " 'nahb',\n",
              " 'punts',\n",
              " 'rake',\n",
              " 'regatta',\n",
              " 'rubens',\n",
              " 'sim']"
            ]
          },
          "metadata": {},
          "execution_count": 13
        }
      ],
      "source": [
        "# попробуем перевести индексы слов в словаре в токены с помощью метода lookup_tokens\n",
        "vocab.lookup_tokens(train_processed_data[:20].tolist())"
      ]
    },
    {
      "cell_type": "markdown",
      "metadata": {
        "id": "3UhOq8AOQHs3"
      },
      "source": [
        "Воспользуемся отложенной ранее строкой `training_samples_example`, чтобы проверить работу словаря и токенизатора"
      ]
    },
    {
      "cell_type": "code",
      "execution_count": null,
      "metadata": {
        "id": "GQ3k1cTMQHs7",
        "outputId": "9c7d725b-cfa5-4afc-ada9-300ae080522a",
        "colab": {
          "base_uri": "https://localhost:8080/"
        }
      },
      "outputs": [
        {
          "output_type": "execute_result",
          "data": {
            "text/plain": [
              "[9892,\n",
              " 9893,\n",
              " 9894,\n",
              " 9896,\n",
              " 9897,\n",
              " 9898,\n",
              " 9902,\n",
              " 9903,\n",
              " 9904,\n",
              " 9905,\n",
              " 9906,\n",
              " 9908,\n",
              " 9909,\n",
              " 9910,\n",
              " 9911,\n",
              " 9913,\n",
              " 9914,\n",
              " 9915,\n",
              " 9916,\n",
              " 9917]"
            ]
          },
          "metadata": {},
          "execution_count": 14
        }
      ],
      "source": [
        "# перевести токены в индексы слов в словаре с помощью метода lookup_indices\n",
        "training_sample_indices = vocab.lookup_indices(tokenizer(training_samples_example)[:20])\n",
        "training_sample_indices"
      ]
    },
    {
      "cell_type": "code",
      "execution_count": null,
      "metadata": {
        "id": "JYjqmgfKQHs9",
        "outputId": "ce5f3761-c457-440b-88b0-3e19d416ca3e",
        "colab": {
          "base_uri": "https://localhost:8080/"
        }
      },
      "outputs": [
        {
          "output_type": "execute_result",
          "data": {
            "text/plain": [
              "['aer',\n",
              " 'banknote',\n",
              " 'berlitz',\n",
              " 'calloway',\n",
              " 'centrust',\n",
              " 'cluett',\n",
              " 'fromstein',\n",
              " 'gitano',\n",
              " 'guterman',\n",
              " 'hydro-quebec',\n",
              " 'ipo',\n",
              " 'kia',\n",
              " 'memotec',\n",
              " 'mlx',\n",
              " 'nahb',\n",
              " 'punts',\n",
              " 'rake',\n",
              " 'regatta',\n",
              " 'rubens',\n",
              " 'sim']"
            ]
          },
          "metadata": {},
          "execution_count": 15
        }
      ],
      "source": [
        "# перевести индексы слов в словаре в токены с помощью метода lookup_tokens\n",
        "vocab.lookup_tokens(training_sample_indices)"
      ]
    },
    {
      "cell_type": "markdown",
      "metadata": {
        "id": "3-2PDeAeQHs9"
      },
      "source": [
        "Определим доступный нам для вычисления девайс: `cpu` или `gpu`. Для более эффективного и быстрого обучения, рекомендуется использовать `cpu`."
      ]
    },
    {
      "cell_type": "code",
      "execution_count": null,
      "metadata": {
        "id": "yPgMdV2zQHtA",
        "outputId": "1e7cd602-3ca7-4943-a4dd-c24a1ec4469b",
        "colab": {
          "base_uri": "https://localhost:8080/"
        }
      },
      "outputs": [
        {
          "output_type": "stream",
          "name": "stdout",
          "text": [
            "cuda\n"
          ]
        }
      ],
      "source": [
        "device = torch.device(\"cuda\" if torch.cuda.is_available() else \"cpu\")\n",
        "print(device)"
      ]
    },
    {
      "cell_type": "markdown",
      "metadata": {
        "id": "_zRuasXiQHtD"
      },
      "source": [
        "## Батчевание данных\n",
        "\n",
        "Для задачи sequence-to-sequence также хочется использовать батчевание данных для обучения. Однако все примеры в данных обычно разной длины, что в некоторых задач, например, переводе текста или суммаризации, когда входная и целевая последовательности отличаются, приводит к тому, что для кжадого батча определяется собственная максимальная длина (либо длина самого длинного прмиера в батче, либо максимальная допустимая длина примера). В задаче языкового моделирования, а именно предсказания следующего токена последовательности, обычно используется другой способ батчевания данных -- все примеры батча склеиваются в единую последовательность, а затем разбиваются на батчи,а лишние элементы отбрасываются. Да, теряется связь между последовательными элементами, попавшивими в разные батчи, однако, это делает вычисления значительно эффективнее."
      ]
    },
    {
      "cell_type": "code",
      "execution_count": null,
      "metadata": {
        "id": "ThxlcOi1QHtD"
      },
      "outputs": [],
      "source": [
        "def batchify(data, batch_size):\n",
        "    # Разделим размер данных data.size(0) на batch_size частей,\n",
        "    # чтобы получить целое число батчей\n",
        "    nbatch = data.size(0) // batch_size\n",
        "    # обрезаем все элементы, которые не помещаются в пространство nbatch * batch_size\n",
        "    # используем метод narrow для dim=0, start=0 и length=nbatch * batch_size\n",
        "    # https://pytorch.org/docs/stable/generated/torch.narrow.html?highlight=narrow#torch.narrow\n",
        "    data = data.narrow(0, 0, nbatch * batch_size)\n",
        "    # абсолютно аналогично работает следующая строка:\n",
        "    # data = data[:nbatch * batch_size]\n",
        "    \n",
        "    # теперь разделим данные на столбцы по размеру батча, используя метод view\n",
        "    data = data.view(batch_size, nbatch)\n",
        "    # транспонируем данные, используя метод t()\n",
        "    # https://pytorch.org/docs/stable/generated/torch.t.html?highlight=t#torch.t\n",
        "    data = torch.t(data)\n",
        "    # преобразуем наш тензор в непрерывный в памяти с помощью метода contiguous\n",
        "    # https://pytorch.org/docs/stable/generated/torch.Tensor.contiguous.html?highlight=contiguous#torch.Tensor.contiguous\n",
        "    data = torch.Tensor.contiguous(data)\n",
        "    # перенесем данные на девайс и вернем их\n",
        "    return data.to(device)\n",
        "\n",
        "\n",
        "# определим размер батча на время обучения\n",
        "batch_size = 20\n",
        "# определим размер батч на время инференса\n",
        "eval_batch_size = 10\n",
        "\n",
        "# батчуем данные обучающей выборки с помощью нашей функции batchify\n",
        "train_data = batchify(train_processed_data, batch_size)\n",
        "# батчуем данные валидационной выборки с помощью нашей функции batchify\n",
        "val_data = batchify(val_processed_data, eval_batch_size)\n",
        "# батчуем данные тестовой выборки с помощью нашей функции batchify\n",
        "test_data = batchify(test_processed_data, eval_batch_size)"
      ]
    },
    {
      "cell_type": "code",
      "execution_count": null,
      "metadata": {
        "id": "JUX12PKLQHtE",
        "outputId": "572a9b33-7e84-4c29-b502-a12062a6cb25",
        "colab": {
          "base_uri": "https://localhost:8080/"
        }
      },
      "outputs": [
        {
          "output_type": "execute_result",
          "data": {
            "text/plain": [
              "tensor([9892,    4,   31,   16, 1925,  178,    3, 2295,    5,   42, 3412, 1611,\n",
              "           1,  730, 3722, 5722, 2124, 1678,  796,  829], device='cuda:0')"
            ]
          },
          "metadata": {},
          "execution_count": 18
        }
      ],
      "source": [
        "train_data[0]"
      ]
    },
    {
      "cell_type": "code",
      "execution_count": null,
      "metadata": {
        "id": "PqAVFNQcQHtJ",
        "outputId": "52f4f539-04d6-4b18-c93a-a92b6abd52bd",
        "colab": {
          "base_uri": "https://localhost:8080/"
        }
      },
      "outputs": [
        {
          "output_type": "execute_result",
          "data": {
            "text/plain": [
              "torch.Size([46220, 20])"
            ]
          },
          "metadata": {},
          "execution_count": 19
        }
      ],
      "source": [
        "train_data.shape"
      ]
    },
    {
      "cell_type": "markdown",
      "metadata": {
        "id": "Zui9G644QHtJ"
      },
      "source": [
        "Теперь мы видим, что у нас есть последовательности данных, неудобные для использования - первая размерность очень большая. Необходимо сделать итерации по первой размерности.\n",
        "\n",
        "\n",
        "Создадим функцию для получения определенного i-го батча данных.\n",
        "\n",
        "При этом введем переменную, содержащую максимальную длину последовательности."
      ]
    },
    {
      "cell_type": "code",
      "execution_count": null,
      "metadata": {
        "id": "VZ7nl0Q1QHtQ"
      },
      "outputs": [],
      "source": [
        "bptt = 35\n",
        "\n",
        "\n",
        "def get_batch(source, i):\n",
        "    \"\"\"\n",
        "    Функция генерирует батч пар входная-выходная последовательности.\n",
        "    Так как последовательности являются длинными, \n",
        "    то мы используем не только размер батча, но и data chunks.\n",
        "    \n",
        "    Returns:\n",
        "    - data of dimension (bptt, batch_size)\n",
        "    - targets of dimension (bptt * batch_size)\n",
        "    \"\"\"\n",
        "    # определяем длину последовательности как минимум между bptt и\n",
        "    # длиной всех данных\n",
        "    seq_len = min(bptt, len(source) - 1 - i)\n",
        "    data = source[i : i + seq_len]\n",
        "    target = source[i + 1 : i + 1 + seq_len].reshape(-1)\n",
        "    return data, target"
      ]
    },
    {
      "cell_type": "code",
      "execution_count": null,
      "metadata": {
        "id": "W-2ybdYUQHtT",
        "outputId": "effb1428-eb94-417d-c6bd-01a79477a13f",
        "colab": {
          "base_uri": "https://localhost:8080/"
        }
      },
      "outputs": [
        {
          "output_type": "stream",
          "name": "stdout",
          "text": [
            "torch.Size([35, 20])\n",
            "torch.Size([700])\n"
          ]
        }
      ],
      "source": [
        "data, targets = get_batch(train_data, 1)\n",
        "print(data.shape)\n",
        "print(targets.shape)"
      ]
    },
    {
      "cell_type": "markdown",
      "metadata": {
        "id": "SNSFOfiMQHtU"
      },
      "source": [
        "## Архитектура модели\n",
        "\n",
        "Данный тюториал предназначен для обучения модели Трансформер с нуля на задаче языкового моделирования. \n",
        "\n",
        "Напомним, что задача языкового моделирования заключается в предсказании распеределения вероятностей заданного токена встретиться сразу после заданной последовательности токенов, то есть по сути, предсказании следующего токена в последовательности.\n",
        "\n",
        "Для языкового моделирования можно использовать модели, состоящие только из энкодера (encoder-only), например модель BERT содержит только энкодер. \n",
        "\n",
        "Итак, будем использовать `torch.nn.TransformerEncoderLayer` и `torch.nn.TransformerEncoder` (который состоит из заданного количества `nn.TransformerEncoderLayer`) в качестве энкодера.\n",
        "\n",
        "Для создания такой модели необходима следующая последовательность действий:\n",
        "1. последовательность токенов (индексов токенов) передается в слой векторных представлений.\n",
        "2. далее последовательность передается в слой позиционных векторных представлений (positional encoding layer), отвечающих за передачу информации о последовательности токенов.\n",
        "3. Полученные векторные представления передаются в линейный слой, размерность которого соответствует размеру словаря. Данный слой предсказывает распределение вероятностей по словарю для следующего токена последовательности.\n",
        "\n",
        "Важной особенностью модели Трансформер является использование masked self-attention, данный метод не позволяет модели смотреть вперед (обращать внимание на токены, которые идут после заданного). Для этого используется специальная маска -- матрица, зануляющая элементы, на которые нельзя обращать внимание.\n",
        "\n",
        "\n",
        "На рисунке ниже представлена схема encoder-only модели. В качестве features  мы получаем скрытые векторные представления входной последовательности, которые пропускаются через линейный слой для получения распределения вероятностей по словарю для следующего токена. Причем таких Encoder block может быть расположено последовательно несколько штук.\n",
        "\n",
        "<img src=\"https://www.researchgate.net/publication/334288604/figure/fig1/AS:778232232148992@1562556431066/The-Transformer-encoder-structure.ppm\">"
      ]
    },
    {
      "cell_type": "markdown",
      "metadata": {
        "id": "fwyDRwg5QHtX"
      },
      "source": [
        "## Позиционные векторные представления (Positional Encoding)\n",
        "\n",
        "Для передачи модели информации о взаимном расположении токенов необходимо также добавить позиционные векторные представления. Позиционные векторные представленияимеют те же размерности, что и векторные представления токенов самих по себе, что позволяет суммировать их в дальнейшем. В оригианльной работе Attention is All You Need авторы исследуют разные варианты используемых функций для позиционных векторных представлений и приходят к выводу, что используемые функции не играют значительной роли. Наиболее распространенными вариантами являются периодические функции синуса и косинуса.\n"
      ]
    },
    {
      "cell_type": "code",
      "execution_count": null,
      "metadata": {
        "id": "-z2tOFrDQHtZ"
      },
      "outputs": [],
      "source": [
        "import math\n",
        "import torch\n",
        "import torch.nn as nn\n",
        "\n",
        "\n",
        "class PositionalEncoding(nn.Module):\n",
        "\n",
        "    def __init__(self, d_model, dropout=0.1, max_len=5000):\n",
        "        super(PositionalEncoding, self).__init__()\n",
        "        \n",
        "        # создадим слой dropout как инстанс nn.Dropout слоя, \n",
        "        # получающего на вход значение dropout\n",
        "        self.dropout = nn.Dropout(p=dropout)\n",
        "        # создадим переменную pe как нулевую матрицу torch.zeros размера (max_len x d_model)\n",
        "        pe = torch.zeros((max_len, d_model))\n",
        "        # создадим переменную position как вектор torch.arange типа torch.float размера max_len, \n",
        "        # содержащий последовательные значения от 0 до max_len-1\n",
        "        position = torch.arange(0, max_len, dtype=torch.float)\n",
        "        # вытянем position вдоль оси 1 с помощью метода unsqueeze\n",
        "        position = torch.unsqueeze(position, 1)\n",
        "        # создадим переменную div_term как вектор torch.arange типа torch.float размера d_model / 2, \n",
        "        # содержащий каждое 2-е последовательное значение от 0 до d_model-1   \n",
        "        div_term = torch.arange(0, d_model, 2).float()\n",
        "        # домножим каждое значение div_term на специальный коэффициент (-math.log(10000.0) / d_model)\n",
        "        div_term = torch.exp(div_term * (-math.log(10000.0) / d_model))\n",
        "        # итак позиционные эмбеддинги нечетных элементов представляют из себя\n",
        "        # перемноженные position и div_term пропускают через sin\n",
        "        # https://pytorch.org/docs/stable/generated/torch.sin.html\n",
        "        pe[:, 0::2] = torch.sin(position * div_term)\n",
        "        # итак позиционные эмбеддинги четных элементов представляют из себя\n",
        "        # перемноженные position и div_term пропускают через cos\n",
        "        # https://pytorch.org/docs/stable/generated/torch.cos.html\n",
        "        pe[:, 1::2] = torch.cos(position * div_term)\n",
        "        # вытянем pe вдоль оси 0 с помощью метода unsqueeze\n",
        "        pe = torch.unsqueeze(pe, 0)\n",
        "        # транспонируем ее с помощью метода transpose\n",
        "        pe = pe.transpose(0, 1)\n",
        "        # добавим pe переменную в буффер модуля\n",
        "        # https://pytorch.org/docs/stable/generated/torch.nn.Module.html\n",
        "        self.register_buffer('pe', pe)\n",
        "\n",
        "    def forward(self, x):\n",
        "        # добавим в исходным веткорным представления pe соответствующего размера\n",
        "        x = x + self.pe[:x.size(0), :]\n",
        "        # пропустим также выход через слой dropout\n",
        "        return self.dropout(x)"
      ]
    },
    {
      "cell_type": "markdown",
      "metadata": {
        "id": "dPvsgqF6QHta"
      },
      "source": [
        "**Создадим саму архиектуру модели, использующую наши позиционные векторные представления**."
      ]
    },
    {
      "cell_type": "code",
      "execution_count": null,
      "metadata": {
        "id": "kAsC9TncQHta"
      },
      "outputs": [],
      "source": [
        "import math\n",
        "import torch\n",
        "import torch.nn as nn\n",
        "import torch.nn.functional as F\n",
        "from torch.nn import TransformerEncoder, TransformerEncoderLayer\n",
        "\n",
        "\n",
        "class TransformerModel(nn.Module):\n",
        "\n",
        "    def __init__(self, vocab_size, emb_size, n_heads, hidden_dim, n_blocks, dropout=0.5):\n",
        "        super(TransformerModel, self).__init__()\n",
        "        # сохраним в атрибуты класса размер векторных представлений, \n",
        "        # чтобы он был доступен во всех методах класса\n",
        "        self.emb_size = emb_size\n",
        "        \n",
        "        # зададим тип модели как 'Transformer'\n",
        "        self.model_type = 'Transformer'\n",
        "        \n",
        "        # создадим слой pos_encoder как инстанс класса PositionalEncoding, \n",
        "        # принимающий на вход размер векторных представлений и дропаут\n",
        "        self.pos_encoder = PositionalEncoding(d_model=self.emb_size, dropout=dropout)\n",
        "        \n",
        "        # создадим слой encoder_layers как инстанс слоя TransformerEncoderLayer, \n",
        "        # принимающий на вход размер векторных представлений, число голов, \n",
        "        # размер скрытого пространства и дропаут\n",
        "        # https://pytorch.org/docs/stable/generated/torch.nn.TransformerEncoderLayer.html\n",
        "        encoder_layers = TransformerEncoderLayer(d_model=self.emb_size,\n",
        "                                                 nhead=n_heads,\n",
        "                                                 dim_feedforward=hidden_dim,\n",
        "                                                 dropout=dropout)\n",
        "        \n",
        "        # создадим слой transformer_encoder как инстанс слоя TransformerEncoder, \n",
        "        # принимающий на вход на инстанс encoder_layers и желаемое число блоков энкодера\n",
        "        # https://pytorch.org/docs/stable/generated/torch.nn.TransformerEncoder.html\n",
        "        self.transformer_encoder = TransformerEncoder(encoder_layer=encoder_layers,\n",
        "                                                      num_layers=n_blocks)\n",
        "        \n",
        "        # создадим слой encoder как инстанс слоя nn.Embedding, \n",
        "        # принимающий на вход размер словаря и размер векторных представлений\n",
        "        # https://pytorch.org/docs/stable/generated/torch.nn.Embedding.html\n",
        "        self.encoder = nn.Embedding(num_embeddings=vocab_size, \n",
        "                                    embedding_dim=self.emb_size)\n",
        "        \n",
        "        # создадим слой decoder как инстанс слоя nn.Linear, \n",
        "        # который преобразует вектора размерности векторных представлений в размер словаря\n",
        "        # https://pytorch.org/docs/stable/generated/torch.nn.Linear.html\n",
        "        self.decoder = nn.Linear(in_features=self.emb_size,\n",
        "                                 out_features=vocab_size)\n",
        "        \n",
        "        # инциализируем веса нашей модели с помощью нашего метода init_weights\n",
        "        self.init_weights()\n",
        "\n",
        "    def generate_square_subsequent_mask(self, sz):\n",
        "        \"\"\"\n",
        "        Данный метод создает квадратную маску размера (sz x sz) для self-attention.\n",
        "        \"\"\"\n",
        "        # создадим единичную матрицу torch.ones размера (sz x sz)\n",
        "        mask = torch.ones(sz, sz)\n",
        "        # превратим ее в верхнетреугольную матрицу с помощью torch.triu \n",
        "        # (элементы на диалогнали и выше диалогнали -- единицы, остальные -- нули)\n",
        "        mask = torch.triu(mask)\n",
        "        # транспонируем ее с помощью метода transpose\n",
        "        mask = mask.transpose(0, 1)\n",
        "        \n",
        "        # заменим значения, равные нулю, на -inf\n",
        "        mask = mask.masked_fill(mask == 0, float('-inf'))\n",
        "        # заменим значения, равные единице, на 0.0\n",
        "        mask = mask.masked_fill(mask == 1, float(0.0))\n",
        "        return mask\n",
        "\n",
        "    def init_weights(self):\n",
        "        initrange = 0.1\n",
        "        # инициализируем веса энкодера случайными величинами \n",
        "        # из равномерного распределения в диапазоне (-initrange, initrange) \n",
        "        self.encoder.weight.data.uniform_(-initrange, initrange)\n",
        "        # зададим в качестве начальных нулевые bias \n",
        "        self.decoder.bias.data.zero_()\n",
        "        # инициализируем веса декодера (линейного слоя) случайными величинами \n",
        "        # из равномерного распределения в диапазоне (-initrange, initrange) \n",
        "        self.decoder.weight.data.uniform_(-initrange, initrange)\n",
        "\n",
        "    def forward(self, src, src_mask):\n",
        "        # входная последовательность обрабатывается с помощью encoder\n",
        "        src = self.encoder(src)\n",
        "        # полученная последовательность домножается на квадратный корень \n",
        "        # из размера векторных представлений\n",
        "        src = src * math.sqrt(self.emb_size)\n",
        "        # полученная последовательность обрабатывается с помощью pos_encoder        \n",
        "        src = self.pos_encoder(src)\n",
        "        # полученная последовательность обрабатывается с помощью transformer_encoder,\n",
        "        # который также принимает на вход маску для self-attention\n",
        "        output = self.transformer_encoder(src, src_mask)\n",
        "        # полученная последовательность обрабатывается с помощью decoder \n",
        "        output = self.decoder(output)\n",
        "        return output"
      ]
    },
    {
      "cell_type": "markdown",
      "metadata": {
        "id": "yv04BKl2QHta"
      },
      "source": [
        "## Инициализация модели\n",
        "\n",
        "Теперь мы можем инициалировать класс модели. Выберем размер векторных представлений 200, но вы можете изменить на больший размер."
      ]
    },
    {
      "cell_type": "code",
      "execution_count": null,
      "metadata": {
        "id": "EEoDhS7EQHta",
        "outputId": "8559fbcc-80d8-4ca3-a4c8-f62ce4bc6437",
        "colab": {
          "base_uri": "https://localhost:8080/"
        }
      },
      "outputs": [
        {
          "output_type": "execute_result",
          "data": {
            "text/plain": [
              "TransformerModel(\n",
              "  (pos_encoder): PositionalEncoding(\n",
              "    (dropout): Dropout(p=0.2, inplace=False)\n",
              "  )\n",
              "  (transformer_encoder): TransformerEncoder(\n",
              "    (layers): ModuleList(\n",
              "      (0): TransformerEncoderLayer(\n",
              "        (self_attn): MultiheadAttention(\n",
              "          (out_proj): NonDynamicallyQuantizableLinear(in_features=200, out_features=200, bias=True)\n",
              "        )\n",
              "        (linear1): Linear(in_features=200, out_features=200, bias=True)\n",
              "        (dropout): Dropout(p=0.2, inplace=False)\n",
              "        (linear2): Linear(in_features=200, out_features=200, bias=True)\n",
              "        (norm1): LayerNorm((200,), eps=1e-05, elementwise_affine=True)\n",
              "        (norm2): LayerNorm((200,), eps=1e-05, elementwise_affine=True)\n",
              "        (dropout1): Dropout(p=0.2, inplace=False)\n",
              "        (dropout2): Dropout(p=0.2, inplace=False)\n",
              "      )\n",
              "      (1): TransformerEncoderLayer(\n",
              "        (self_attn): MultiheadAttention(\n",
              "          (out_proj): NonDynamicallyQuantizableLinear(in_features=200, out_features=200, bias=True)\n",
              "        )\n",
              "        (linear1): Linear(in_features=200, out_features=200, bias=True)\n",
              "        (dropout): Dropout(p=0.2, inplace=False)\n",
              "        (linear2): Linear(in_features=200, out_features=200, bias=True)\n",
              "        (norm1): LayerNorm((200,), eps=1e-05, elementwise_affine=True)\n",
              "        (norm2): LayerNorm((200,), eps=1e-05, elementwise_affine=True)\n",
              "        (dropout1): Dropout(p=0.2, inplace=False)\n",
              "        (dropout2): Dropout(p=0.2, inplace=False)\n",
              "      )\n",
              "    )\n",
              "  )\n",
              "  (encoder): Embedding(9922, 200)\n",
              "  (decoder): Linear(in_features=200, out_features=9922, bias=True)\n",
              ")"
            ]
          },
          "metadata": {},
          "execution_count": 24
        }
      ],
      "source": [
        "# размер словаря\n",
        "vocab_size = vocab.__len__()\n",
        "# размер векторных представлений\n",
        "emb_size = 200\n",
        "# размерность скрытого полносвязного слоя в nn.TransformerEncoder\n",
        "hidden_dim = 200 \n",
        "# число nn.TransformerEncoderLayer слоев в nn.TransformerEncoder\n",
        "n_blocks = 2\n",
        "# число голов  в  multiheadattention \n",
        "n_heads = 2\n",
        "# величина dropout\n",
        "dropout = 0.2\n",
        "\n",
        "# инициализируем нашу модель класса TransformerModel,\n",
        "# передав в качестве аргументов:\n",
        "# размер словаря\n",
        "# размер векторных представлений\n",
        "# число голов  в  multiheadattention \n",
        "# размерность скрытого полносвязного слоя в nn.TransformerEncoder\n",
        "# число  nn.TransformerEncoderLayer слоев в nn.TransformerEncoder\n",
        "# величину dropout\n",
        "model = TransformerModel(vocab_size, emb_size, n_heads, hidden_dim, n_blocks, dropout)\n",
        "# перенесем модель на девайс\n",
        "model.to(device)"
      ]
    },
    {
      "cell_type": "markdown",
      "metadata": {
        "id": "m0oh07HXQHtb"
      },
      "source": [
        "# Обучение модели\n",
        "\n",
        "\n",
        "В качестве лосса используем CrossEntropyLoss, в качестве оптимайзера -- Stochastic Gradient Descent (SGD)."
      ]
    },
    {
      "cell_type": "code",
      "execution_count": null,
      "metadata": {
        "id": "W84myrlJQHtf"
      },
      "outputs": [],
      "source": [
        "from torch.nn.modules.loss import CrossEntropyLoss\n",
        "import time\n",
        "\n",
        "\n",
        "LOG_INTERVAL = 500\n",
        "EPOCHS = 3 # epoch\n",
        "LR = 5  # learning rate - lr\n",
        "# определим функцию потерь torch.nn.CrossEntropyLoss\n",
        "criterion = CrossEntropyLoss()\n",
        "# определим оптимизатор torch.optim.SGD с заданным lr, \n",
        "# передав также параметры модели model.parameters()\n",
        "optimizer = torch.optim.SGD(model.parameters(), lr=LR)\n",
        "# определим расписание изменения значения lr torch.optim.lr_scheduler.StepLR\n",
        "# передав в качестве аргументов optimizer, \n",
        "# значение step_size равное 1, и значение gamma 0.95 (коэффициент убывания)\n",
        "scheduler = torch.optim.lr_scheduler.StepLR(optimizer=optimizer,\n",
        "                                            step_size=1, gamma=0.95)\n",
        "\n",
        "\n",
        "def train():\n",
        "    # создадим переменную для сохранения лоссов на обучающей выборке\n",
        "    train_losses = []\n",
        "    # обязательно переводим модель в режим обучения с помощью метода train()\n",
        "    model.train()\n",
        "    total_loss = 0.\n",
        "    start_time = time.time()\n",
        "    # используем метод модели generate_square_subsequent_mask для генерации маски,\n",
        "    # передавая в качестве аргумента bptt, а также перенесем результат на девайс\n",
        "    src_mask = model.generate_square_subsequent_mask(bptt).to(device)\n",
        "    \n",
        "    # итерируемся батчами по заданному датасету\n",
        "    for batch, i in enumerate(range(0, train_data.size(0) - 1, bptt)):\n",
        "        # получаем данные для батча под номером i\n",
        "        data, targets = get_batch(train_data, i)\n",
        "        # обнуляем градиенты с помощью метода zero_grad\n",
        "        optimizer.zero_grad()\n",
        "        \n",
        "        if data.size(0) != bptt:\n",
        "            # используем метод модели generate_square_subsequent_mask для генерации маски,\n",
        "            # передавая в качестве аргумента bptt, а также перенесем результат на девайс\n",
        "            src_mask = model.generate_square_subsequent_mask(data.size(0)).to(device)\n",
        "            \n",
        "        # передаем в модель data и src_mask\n",
        "        output = model(data, src_mask)\n",
        "        # получим распределение logits по выходным токенам \n",
        "        output_tokens = output.view(-1, vocab_size)\n",
        "        # подсчитываем лосс с помощью criterion, \n",
        "        # вычисляемого на основе output_tokens и targets \n",
        "        # (напоминаю, targets -- это те же токены, сдвинутые на 1 вперед)\n",
        "        loss = criterion(output_tokens, targets)\n",
        "        # обратное распространение ошибки с помощью метода backward()\n",
        "        loss.backward()\n",
        "        # ограничиваем норму градиентов с помощью метода \n",
        "        # torch.nn.utils.clip_grad_norm_, в который передаются \n",
        "        # параметры модели model.parameters() и макс. значение нормы 0.5\n",
        "        torch.nn.utils.clip_grad_norm_(model.parameters(), 0.5)\n",
        "        # делаем шаг оптимизатора, то есть обновляем веса модели, \n",
        "        # с помощью метода step()\n",
        "        optimizer.step()\n",
        "\n",
        "        total_loss += loss.item()\n",
        "        # добавим текущее значение лосса на батче обучающей выборки в наш лист\n",
        "        # train_losses, который потом будем использовать для печати лоссов\n",
        "        train_losses += [loss.item()]\n",
        "        \n",
        "        # теперь проверяем, не настоли ли время логгирования скоров на обучающей выборке\n",
        "        if batch % LOG_INTERVAL == 0 and batch > 0:\n",
        "            cur_loss = total_loss / LOG_INTERVAL\n",
        "            elapsed = time.time() - start_time\n",
        "            print('| epoch {:3d} | {:5d}/{:5d} batches | '\n",
        "                  'lr {:02.2f} | ms/batch {:5.2f} | '\n",
        "                  'loss {:5.2f} | ppl {:8.2f}'.format(\n",
        "                    epoch, batch, len(train_data) // bptt, scheduler.get_last_lr()[0],\n",
        "                    elapsed * 1000 / LOG_INTERVAL,\n",
        "                    cur_loss, math.exp(cur_loss)))\n",
        "            total_loss = 0\n",
        "            start_time = time.time()\n",
        "            \n",
        "    return train_losses\n",
        "\n",
        "\n",
        "def evaluate(eval_model, data_source):\n",
        "    # обязательно переводим модель в режим инференса (эвалюации) \n",
        "    # с помощью метода eval()\n",
        "    eval_model.eval() \n",
        "    \n",
        "    total_loss = 0.\n",
        "    src_mask = model.generate_square_subsequent_mask(bptt).to(device)\n",
        "    \n",
        "    # эвалюация не должна обновлять градиенты модели\n",
        "    with torch.no_grad():\n",
        "          # итерируемся батчами по заданному датасету\n",
        "        for i in range(0, data_source.size(0) - 1, bptt):\n",
        "            # получаем данные для батча под номером i\n",
        "            data, targets = get_batch(data_source, i)\n",
        "            if data.size(0) != bptt:\n",
        "                # используем метод модели generate_square_subsequent_mask для генерации маски,\n",
        "                # передавая в качестве аргумента bptt, а также перенесем результат на девайс\n",
        "                src_mask = model.generate_square_subsequent_mask(data.size(0)).to(device)\n",
        "            # передаем в модель data и src_mask\n",
        "            output = model(data, src_mask)\n",
        "            # получим распределение logits по выходным токенам \n",
        "            output_flat = output.view(-1, vocab_size)\n",
        "            # подсчитываем лосс с помощью criterion, \n",
        "            # вычисляемого на основе output_tokens и targets \n",
        "            # (напоминаю, targets -- это те же токены, сдвинутые на 1 вперед)\n",
        "            valid_loss = criterion(output_flat, targets).item()\n",
        "            total_loss += len(data) * valid_loss\n",
        "    \n",
        "    return total_loss / (len(data_source) - 1)"
      ]
    },
    {
      "cell_type": "markdown",
      "metadata": {
        "id": "4BPMW4m9QHti"
      },
      "source": [
        "Запускаем тренировку и смотрим, как падает лосс."
      ]
    },
    {
      "cell_type": "code",
      "execution_count": null,
      "metadata": {
        "id": "uYLlzbstQHtm",
        "outputId": "a4b09551-844d-4336-8b7a-e946c6637770",
        "colab": {
          "base_uri": "https://localhost:8080/"
        }
      },
      "outputs": [
        {
          "output_type": "stream",
          "name": "stdout",
          "text": [
            "| epoch   1 |   500/ 1320 batches | lr 5.00 | ms/batch  7.38 | loss  6.50 | ppl   666.79\n",
            "| epoch   1 |  1000/ 1320 batches | lr 5.00 | ms/batch  8.03 | loss  5.66 | ppl   288.04\n",
            "-----------------------------------------------------------------------------------------\n",
            "| end of epoch   1 | time: 11.06s | valid loss  5.47 | valid ppl   238.58\n",
            "-----------------------------------------------------------------------------------------\n",
            "| epoch   2 |   500/ 1320 batches | lr 4.75 | ms/batch  9.94 | loss  5.37 | ppl   214.75\n",
            "| epoch   2 |  1000/ 1320 batches | lr 4.75 | ms/batch 12.07 | loss  5.27 | ppl   194.88\n",
            "-----------------------------------------------------------------------------------------\n",
            "| end of epoch   2 | time: 13.73s | valid loss  5.33 | valid ppl   206.74\n",
            "-----------------------------------------------------------------------------------------\n",
            "| epoch   3 |   500/ 1320 batches | lr 4.51 | ms/batch  7.31 | loss  5.15 | ppl   172.76\n",
            "| epoch   3 |  1000/ 1320 batches | lr 4.51 | ms/batch  7.25 | loss  5.09 | ppl   162.98\n",
            "-----------------------------------------------------------------------------------------\n",
            "| end of epoch   3 | time: 10.34s | valid loss  5.27 | valid ppl   193.50\n",
            "-----------------------------------------------------------------------------------------\n"
          ]
        }
      ],
      "source": [
        "best_val_loss = float(\"inf\")\n",
        "best_model = None\n",
        "\n",
        "# зададим переменные для сохранения хначения лоссов\n",
        "# для дальнейшего построения графиков\n",
        "train_losses = []\n",
        "eval_losses = []\n",
        "\n",
        "# подсчитаем значения лосса на валидационной выборке до начала обучения с помощью нашей функции evaluate\n",
        "val_loss = evaluate(model, val_data)\n",
        "# сохраним первое значение лосса на валидационной подвыборке\n",
        "eval_losses += [val_loss]\n",
        "\n",
        "\n",
        "for epoch in range(1, EPOCHS + 1):\n",
        "    epoch_start_time = time.time()\n",
        "    # запускаем обучения на 1 эпоху с помощью нашей функции train\n",
        "    train_losses += train()\n",
        "    # подсчитываем качество на валидационной подвыборке \n",
        "    # с помощью нашей функции evaluate\n",
        "    val_loss = evaluate(model, val_data)\n",
        "    print('-' * 89)\n",
        "    print('| end of epoch {:3d} | time: {:5.2f}s | valid loss {:5.2f} | '\n",
        "          'valid ppl {:8.2f}'.format(epoch, (time.time() - epoch_start_time),\n",
        "                                     val_loss, math.exp(val_loss)))\n",
        "    print('-' * 89)\n",
        "    eval_losses += [val_loss]\n",
        "\n",
        "    if val_loss < best_val_loss:\n",
        "        best_val_loss = val_loss\n",
        "        best_model = model\n",
        "    \n",
        "    scheduler.step()"
      ]
    },
    {
      "cell_type": "code",
      "execution_count": null,
      "metadata": {
        "id": "GoWkFlbfQHtn",
        "outputId": "98cae0b4-a0bf-4da3-8e38-d3661c17f512",
        "colab": {
          "base_uri": "https://localhost:8080/"
        }
      },
      "outputs": [
        {
          "output_type": "execute_result",
          "data": {
            "text/plain": [
              "(3963, 4, 1321.0)"
            ]
          },
          "metadata": {},
          "execution_count": 59
        }
      ],
      "source": [
        "len(train_losses), len(eval_losses), len(train_losses) / EPOCHS"
      ]
    },
    {
      "cell_type": "markdown",
      "metadata": {
        "id": "usOj4Bg_QHto"
      },
      "source": [
        "## Построим графики loss значений"
      ]
    },
    {
      "cell_type": "code",
      "execution_count": null,
      "metadata": {
        "id": "-hTC6UfbQHto",
        "outputId": "a8acec4b-3b44-476c-ee14-c667b2644c52",
        "colab": {
          "base_uri": "https://localhost:8080/",
          "height": 1000
        }
      },
      "outputs": [
        {
          "output_type": "display_data",
          "data": {
            "text/plain": [
              "<Figure size 864x432 with 1 Axes>"
            ],
            "image/png": "[encoded data removed]"
          },
          "metadata": {
            "needs_background": "light"
          }
        },
        {
          "output_type": "display_data",
          "data": {
            "text/plain": [
              "<Figure size 864x432 with 1 Axes>"
            ],
            "image/png": "[encoded data removed]"
          },
          "metadata": {
            "needs_background": "light"
          }
        },
        {
          "output_type": "display_data",
          "data": {
            "text/plain": [
              "<Figure size 864x432 with 1 Axes>"
            ],
            "image/png": "[encoded data removed]"
          },
          "metadata": {
            "needs_background": "light"
          }
        }
      ],
      "source": [
        "import matplotlib.pyplot as plt\n",
        "import numpy as np\n",
        "\n",
        "%matplotlib inline\n",
        "\n",
        "\n",
        "# так как в train_losses хранятся лоссы с каждого батча, то их слишком много \n",
        "# для качественной и наглядной визуализации. \n",
        "# Построим также сглаженное значение train_losses c заданным SMOOTHING_PERIOD\n",
        "SMOOTHING_PERIOD = 500\n",
        "\n",
        "plt.figure(figsize=[12, 6])\n",
        "# строим полученные лоссы с каждого батча обучения\n",
        "plt.plot(train_losses, label=\"train\")\n",
        "\n",
        "# получим сглаженные значения train_losses\n",
        "smoothed = np.convolve(train_losses, np.ones(SMOOTHING_PERIOD)/SMOOTHING_PERIOD)\n",
        "# строим сглаженные лоссы обучения\n",
        "plt.plot(smoothed[SMOOTHING_PERIOD:-SMOOTHING_PERIOD], label=\"train-smoothed\")\n",
        "\n",
        "# строим полученные лоссы с каждой эвалюации\n",
        "plt.plot(len(train_losses) / EPOCHS * np.arange(EPOCHS + 1), eval_losses, label=\"valid\")\n",
        "\n",
        "# добавим легенду для интерпретируемости\n",
        "plt.legend()\n",
        "plt.show()"
      ]
    }
  ],
  "metadata": {
    "kernelspec": {
      "display_name": "Python 3 (ipykernel)",
      "language": "python",
      "name": "python3"
    },
    "language_info": {
      "codemirror_mode": {
        "name": "ipython",
        "version": 3
      },
      "file_extension": ".py",
      "mimetype": "text/x-python",
      "name": "python",
      "nbconvert_exporter": "python",
      "pygments_lexer": "ipython3",
      "version": "3.9.13"
    },
    "colab": {
      "provenance": []
    },
    "accelerator": "GPU",
    "gpuClass": "standard"
  },
  "nbformat": 4,
  "nbformat_minor": 0
}